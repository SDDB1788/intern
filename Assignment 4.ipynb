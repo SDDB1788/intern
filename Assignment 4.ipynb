{
 "cells": [
  {
   "cell_type": "markdown",
   "metadata": {},
   "source": [
    "# The details of most viewed videos on YouTube from Wikipedia:"
   ]
  },
  {
   "cell_type": "code",
   "execution_count": 48,
   "metadata": {},
   "outputs": [],
   "source": [
    "import selenium\n",
    "from selenium import webdriver\n",
    "import time\n",
    "import pandas as pd"
   ]
  },
  {
   "cell_type": "code",
   "execution_count": 49,
   "metadata": {},
   "outputs": [],
   "source": [
    "driver=webdriver.Chrome()"
   ]
  },
  {
   "cell_type": "code",
   "execution_count": 50,
   "metadata": {},
   "outputs": [],
   "source": [
    "pg=driver.get(\"https://en.wikipedia.org/wiki/List_of_most-viewed_YouTube_videos\")\n",
    "pg"
   ]
  },
  {
   "cell_type": "code",
   "execution_count": 51,
   "metadata": {},
   "outputs": [
    {
     "data": {
      "text/plain": [
       "['music videos',\n",
       " 'Baby Shark Dance',\n",
       " 'Baby Shark Dance',\n",
       " 'Baby Shark Dance',\n",
       " 'Cocomelon – Nursery Rhymes',\n",
       " 'Major Lazer Official',\n",
       " 'Cocomelon – Nursery Rhymes',\n",
       " 'Cocomelon – Nursery Rhymes',\n",
       " 'The Gummy Bear Song',\n",
       " 'Fueled By Ramen',\n",
       " 'The Gummy Bear Song',\n",
       " 'Osito Gominola – Full Spanish Version – The Gummy Bear Song',\n",
       " 'Baby Shark Dance',\n",
       " 'Closer',\n",
       " 'Cocomelon – Nursery Rhymes',\n",
       " 'Cocomelon – Nursery Rhymes',\n",
       " 'Baby Shark Dance',\n",
       " 'List of most-viewed online trailers in the first 24 hours',\n",
       " 'regional restrictions',\n",
       " 'regional restrictions',\n",
       " 'Wired',\n",
       " '',\n",
       " '']"
      ]
     },
     "execution_count": 51,
     "metadata": {},
     "output_type": "execute_result"
    }
   ],
   "source": [
    "Rank=[]\n",
    "Nm=[]\n",
    "Artist=[]\n",
    "Upload_date=[]\n",
    "Views=[]\n",
    "\n",
    "for i in driver.find_elements_by_xpath(\"//a[@class='mw-redirect']\"):\n",
    "    Nm.append(i.text)\n",
    "    \n",
    "for r in driver.find_elements_by_xpath(\"//a[@class='mw-redirect']\"):\n",
    "    Nm.append(r.text)\n",
    "    \n",
    "Nm"
   ]
  },
  {
   "cell_type": "markdown",
   "metadata": {},
   "source": [
    "# 2. The details team India’s international fixtures from bcci.tv"
   ]
  },
  {
   "cell_type": "code",
   "execution_count": 25,
   "metadata": {},
   "outputs": [],
   "source": [
    "driver.get(\"https://www.bcci.tv/international/fixtures\")"
   ]
  },
  {
   "cell_type": "code",
   "execution_count": 28,
   "metadata": {},
   "outputs": [
    {
     "data": {
      "text/plain": [
       "['Friday 18th June 15:30 IST',\n",
       " 'Wednesday 4th August 15:30 IST',\n",
       " 'Thursday 12th August 15:30 IST',\n",
       " 'Wednesday 25th August 15:30 IST',\n",
       " 'Thursday 2nd September 15:30 IST',\n",
       " 'Friday 10th September 15:30 IST']"
      ]
     },
     "execution_count": 28,
     "metadata": {},
     "output_type": "execute_result"
    }
   ],
   "source": [
    "Date=[]\n",
    "date=driver.find_elements_by_xpath(\"//span[@class='fixture__datetime tablet-only']\")\n",
    "for d in date:\n",
    "    Date.append(d.text)\n",
    "    \n",
    "Date"
   ]
  },
  {
   "cell_type": "code",
   "execution_count": 29,
   "metadata": {},
   "outputs": [
    {
     "data": {
      "text/plain": [
       "['Final The Ageas Bowl, Southampton',\n",
       " '1st Test Trent Bridge, Nottingham',\n",
       " \"2nd Test Lord's, London\",\n",
       " '3rd Test Headingley, Leeds',\n",
       " '4th Test The Oval, London',\n",
       " '5th Test Old Trafford, Manchester']"
      ]
     },
     "execution_count": 29,
     "metadata": {},
     "output_type": "execute_result"
    }
   ],
   "source": [
    "Ground=[]\n",
    "G=driver.find_elements_by_xpath(\"//p[@class='fixture__additional-info']\")\n",
    "for g in G:\n",
    "    Ground.append(g.text)\n",
    "    \n",
    "Ground"
   ]
  },
  {
   "cell_type": "code",
   "execution_count": 30,
   "metadata": {},
   "outputs": [
    {
     "data": {
      "text/plain": [
       "['INDIA\\nNEW ZEALAND',\n",
       " 'ENGLAND\\nINDIA',\n",
       " 'ENGLAND\\nINDIA',\n",
       " 'ENGLAND\\nINDIA',\n",
       " 'ENGLAND\\nINDIA',\n",
       " 'ENGLAND\\nINDIA']"
      ]
     },
     "execution_count": 30,
     "metadata": {},
     "output_type": "execute_result"
    }
   ],
   "source": [
    "Match=[]\n",
    "m=driver.find_elements_by_xpath(\"//div[@class='fixture__teams']\")\n",
    "for v in m:\n",
    "    Match.append(v.text)\n",
    "    \n",
    "Match"
   ]
  },
  {
   "cell_type": "code",
   "execution_count": 31,
   "metadata": {},
   "outputs": [
    {
     "data": {
      "text/html": [
       "<div>\n",
       "<style scoped>\n",
       "    .dataframe tbody tr th:only-of-type {\n",
       "        vertical-align: middle;\n",
       "    }\n",
       "\n",
       "    .dataframe tbody tr th {\n",
       "        vertical-align: top;\n",
       "    }\n",
       "\n",
       "    .dataframe thead th {\n",
       "        text-align: right;\n",
       "    }\n",
       "</style>\n",
       "<table border=\"1\" class=\"dataframe\">\n",
       "  <thead>\n",
       "    <tr style=\"text-align: right;\">\n",
       "      <th></th>\n",
       "      <th>Date</th>\n",
       "      <th>Ground</th>\n",
       "      <th>Match</th>\n",
       "    </tr>\n",
       "  </thead>\n",
       "  <tbody>\n",
       "    <tr>\n",
       "      <th>0</th>\n",
       "      <td>Friday 18th June 15:30 IST</td>\n",
       "      <td>Final The Ageas Bowl, Southampton</td>\n",
       "      <td>INDIA\\nNEW ZEALAND</td>\n",
       "    </tr>\n",
       "    <tr>\n",
       "      <th>1</th>\n",
       "      <td>Wednesday 4th August 15:30 IST</td>\n",
       "      <td>1st Test Trent Bridge, Nottingham</td>\n",
       "      <td>ENGLAND\\nINDIA</td>\n",
       "    </tr>\n",
       "    <tr>\n",
       "      <th>2</th>\n",
       "      <td>Thursday 12th August 15:30 IST</td>\n",
       "      <td>2nd Test Lord's, London</td>\n",
       "      <td>ENGLAND\\nINDIA</td>\n",
       "    </tr>\n",
       "    <tr>\n",
       "      <th>3</th>\n",
       "      <td>Wednesday 25th August 15:30 IST</td>\n",
       "      <td>3rd Test Headingley, Leeds</td>\n",
       "      <td>ENGLAND\\nINDIA</td>\n",
       "    </tr>\n",
       "    <tr>\n",
       "      <th>4</th>\n",
       "      <td>Thursday 2nd September 15:30 IST</td>\n",
       "      <td>4th Test The Oval, London</td>\n",
       "      <td>ENGLAND\\nINDIA</td>\n",
       "    </tr>\n",
       "    <tr>\n",
       "      <th>5</th>\n",
       "      <td>Friday 10th September 15:30 IST</td>\n",
       "      <td>5th Test Old Trafford, Manchester</td>\n",
       "      <td>ENGLAND\\nINDIA</td>\n",
       "    </tr>\n",
       "  </tbody>\n",
       "</table>\n",
       "</div>"
      ],
      "text/plain": [
       "                               Date                             Ground  \\\n",
       "0        Friday 18th June 15:30 IST  Final The Ageas Bowl, Southampton   \n",
       "1    Wednesday 4th August 15:30 IST  1st Test Trent Bridge, Nottingham   \n",
       "2    Thursday 12th August 15:30 IST            2nd Test Lord's, London   \n",
       "3   Wednesday 25th August 15:30 IST         3rd Test Headingley, Leeds   \n",
       "4  Thursday 2nd September 15:30 IST          4th Test The Oval, London   \n",
       "5   Friday 10th September 15:30 IST  5th Test Old Trafford, Manchester   \n",
       "\n",
       "                Match  \n",
       "0  INDIA\\nNEW ZEALAND  \n",
       "1      ENGLAND\\nINDIA  \n",
       "2      ENGLAND\\nINDIA  \n",
       "3      ENGLAND\\nINDIA  \n",
       "4      ENGLAND\\nINDIA  \n",
       "5      ENGLAND\\nINDIA  "
      ]
     },
     "execution_count": 31,
     "metadata": {},
     "output_type": "execute_result"
    }
   ],
   "source": [
    "df=pd.DataFrame({'Date':Date,\n",
    "                'Ground':Ground,\n",
    "                'Match':Match})\n",
    "\n",
    "df"
   ]
  },
  {
   "cell_type": "markdown",
   "metadata": {},
   "source": [
    "3. Guru -99"
   ]
  },
  {
   "cell_type": "code",
   "execution_count": 13,
   "metadata": {},
   "outputs": [],
   "source": [
    "driver.get(\"http://statisticstimes.com/economy/india/indian-states-gdp.php\")"
   ]
  },
  {
   "cell_type": "code",
   "execution_count": 22,
   "metadata": {},
   "outputs": [
    {
     "data": {
      "text/plain": [
       "['1,845,853',\n",
       " '1,687,818',\n",
       " '1,631,977',\n",
       " '1,253,832',\n",
       " '1,020,989',\n",
       " '972,782',\n",
       " '969,604',\n",
       " '906,672',\n",
       " '856,112',\n",
       " '831,610',\n",
       " '611,804',\n",
       " '574,760',\n",
       " '521,275',\n",
       " '329,180',\n",
       " '328,598',\n",
       " '165,472',\n",
       " '80,449',\n",
       " '55,984',\n",
       " '38,253',\n",
       " '36,572',\n",
       " '32,496',\n",
       " '31,790',\n",
       " '26,503',\n",
       " '-',\n",
       " '-',\n",
       " '-',\n",
       " '-',\n",
       " '-',\n",
       " '-',\n",
       " '-',\n",
       " '-',\n",
       " '-',\n",
       " '-',\n",
       " '2,332,992',\n",
       " '1,465,361',\n",
       " '1,404,761',\n",
       " '1,351,553',\n",
       " '1,322,936',\n",
       " '995,502',\n",
       " '845,247',\n",
       " '782,370',\n",
       " '776,140',\n",
       " '737,156',\n",
       " '707,542',\n",
       " '704,529',\n",
       " '666,075',\n",
       " '486,776',\n",
       " '472,506',\n",
       " '428,031',\n",
       " '282,782',\n",
       " '271,990',\n",
       " '266,537',\n",
       " '221,871',\n",
       " '133,303',\n",
       " '129,877',\n",
       " '66,060',\n",
       " '44,835',\n",
       " '37,571',\n",
       " '31,415',\n",
       " '29,544',\n",
       " '25,323',\n",
       " '25,141',\n",
       " '24,534',\n",
       " '22,488',\n",
       " '20,947',\n",
       " '-']"
      ]
     },
     "execution_count": 22,
     "metadata": {},
     "output_type": "execute_result"
    }
   ],
   "source": [
    "Rank=[]\n",
    "State=[]\n",
    "GSDP=[]\n",
    "\n",
    "for r in driver.find_elements_by_xpath(\"//td[@class='data1']\"):\n",
    "    Rank.append(r.text)\n",
    "for n in driver.find_elements_by_xpath(\"//td[@class='name']\"):\n",
    "    State.append(n.text)\n",
    "gsdp=driver.find_elements_by_xpath(\"//td[@class='data sorting_1']\")\n",
    "for g in gsdp:\n",
    "    if g.text is None:\n",
    "        GSDP.append(\"NA\")\n",
    "    else:\n",
    "        GSDP.append(g.text)\n",
    "\n",
    "            \n",
    "        \n",
    "    \n",
    "GSDP\n"
   ]
  },
  {
   "cell_type": "code",
   "execution_count": 33,
   "metadata": {},
   "outputs": [
    {
     "data": {
      "text/plain": [
       "['2 Tamil Nadu 1,845,853 1,630,208 8.59% 246.529 1,312,929 1,215,307',\n",
       " '5 Karnataka 1,631,977 1,493,127 7.87% 225.798 1,156,039 1,091,077',\n",
       " '7 Rajasthan 1,020,989 942,586 4.97% 142.543 711,627 677,428',\n",
       " '9 Telangana 969,604 861,031 4.54% 130.210 663,258 612,828',\n",
       " '12 Delhi 856,112 774,870 4.08% 117.180 634,408 590,569',\n",
       " '14 Bihar 611,804 530,363 2.80% 80.204 414,977 375,651',\n",
       " '16 Odisha 521,275 487,805 2.57% 73.768 396,499 376,877',\n",
       " '19 Jharkhand 328,598 297,204 1.57% 44.945 240,036 224,986',\n",
       " '23 Goa 80,449 73,170 0.39% 11.065 63,408 57,787',\n",
       " '26 Puducherry 38,253 34,433 0.18% 5.207 25,093 23,013',\n",
       " '28 Sikkim 32,496 28,723 0.15% 4.344 20,017 18,722',\n",
       " '32 Mizoram 26,503 22,287 0.12% 3.370 18,797 16,478',\n",
       " '4 Gujarat - 1,502,899 7.92% 227.276 - 1,186,379',\n",
       " '17 Assam - 315,881 1.67% 47.769 - 234,048',\n",
       " '21 Jammu & Kashmir - 155,956 0.82% 23.584 - 112,755',\n",
       " '30 Nagaland - 27,283 0.14% 4.126 - 17,647',\n",
       " '33 Andaman & Nicobar Islands - - - - - -',\n",
       " '1 Maharashtra - 2,332,992 13.90% - 1,794,123',\n",
       " '3 Uttar Pradesh 1,495,758 1,404,761 8.37% 1,015,735 979,159',\n",
       " '5 Gujarat - 1,322,936 7.88% - 1,036,859',\n",
       " '7 Rajasthan 916,014 845,247 5.03% 630,693 600,433',\n",
       " '9 Andhra Pradesh 875,429 776,140 4.62% 595,605 550,584',\n",
       " '11 Kerala - 707,542 4.21% - 513,322',\n",
       " '13 Haryana 755,790 666,075 3.97% 514,983 477,834',\n",
       " '15 Punjab 517,521 472,506 2.81% 374,015 354,830',\n",
       " '17 Assam - 282,782 1.68% - 207,193',\n",
       " '19 Chhattisgarh 288,041 266,537 1.59% 210,837 200,453',\n",
       " '21 Himachal Pradesh 143,063 133,303 0.79% 107,171 101,534',\n",
       " '23 Goa 72,181 66,060 0.39% 56,810 51,878',\n",
       " '25 Chandigarh - 37,571 0.22% - 27,565',\n",
       " '27 Meghalaya 32,833 29,544 0.18% 23,564 21,779',\n",
       " '29 Sikkim 28,391 25,141 0.15% 17,060 15,972',\n",
       " '31 Arunachal Pradesh - 22,488 0.13% - 15,013',\n",
       " '33 Andaman & Nicobar Islands - - - - -',\n",
       " '3 Uttar Pradesh 1,687,818 1,584,764 8.35% 239.656 1,166,817 1,123,982',\n",
       " '6 West Bengal 1,253,832 1,089,898 5.75% 164.820 793,223 739,525',\n",
       " '8 Andhra Pradesh 972,782 862,957 4.55% 130.501 672,018 621,301',\n",
       " '10 Madhya Pradesh 906,672 809,592 4.27% 122.431 561,801 522,009',\n",
       " '13 Haryana 831,610 734,163 3.87% 111.024 572,240 531,085',\n",
       " '15 Punjab 574,760 526,376 2.77% 79.601 418,868 397,669',\n",
       " '18 Chhattisgarh 329,180 304,063 1.60% 45.982 243,477 231,182',\n",
       " '22 Himachal Pradesh 165,472 153,845 0.81% 23.265 124,403 117,851',\n",
       " '24 Tripura 55,984 49,845 0.26% 7.538 40,583 36,963',\n",
       " '27 Meghalaya 36,572 33,481 0.18% 5.063 26,695 24,682',\n",
       " '29 Manipur 31,790 27,870 0.15% 4.215 20,673 19,300',\n",
       " '1 Maharashtra - 2,632,792 13.88% 398.145 - 2,039,074',\n",
       " '11 Kerala - 781,653 4.12% 118.206 - 559,412',\n",
       " '20 Uttarakhand - 245,895 1.30% 37.186 - 193,273',\n",
       " '25 Chandigarh - 42,114 0.22% 6.369 - 31,192',\n",
       " '31 Arunachal Pradesh - 24,603 0.13% 3.721 - 16,676',\n",
       " '2 Tamil Nadu 1,659,210 1,465,361 8.73% 1,167,776 1,079,894',\n",
       " '4 Karnataka 1,476,983 1,351,553 8.05% 1,035,131 976,948',\n",
       " '6 West Bengal 1,150,711 995,502 5.93% 713,376 662,432',\n",
       " '8 Telangana 881,873 782,370 4.66% 594,806 549,481',\n",
       " '10 Madhya Pradesh 827,019 737,156 4.39% 496,798 461,903',\n",
       " '12 Delhi 779,647 704,529 4.20% 568,265 529,739',\n",
       " '14 Bihar 562,710 486,776 2.90% 377,276 340,512',\n",
       " '16 Odisha 457,757 428,031 2.55% 344,437 327,805',\n",
       " '18 Jharkhand 301,242 271,990 1.62% 218,232 204,423',\n",
       " '20 Uttarakhand - 221,871 1.32% - 173,211',\n",
       " '22 Jammu & Kashmir - 129,877 0.77% - 91,666',\n",
       " '24 Tripura 50,227 44,835 0.27% 35,980 32,830',\n",
       " '26 Puducherry 34,823 31,415 0.19% 22,291 20,534',\n",
       " '28 Manipur 29,148 25,323 0.15% 18,549 17,228',\n",
       " '30 Nagaland - 24,534 0.15% - 15,381',\n",
       " '32 Mizoram 24,424 20,947 0.12% 17,797 15,372']"
      ]
     },
     "execution_count": 33,
     "metadata": {},
     "output_type": "execute_result"
    }
   ],
   "source": [
    "Odd=[]\n",
    "Even=[]\n",
    "for u in driver.find_elements_by_xpath(\"//tr[@class='odd']\"):\n",
    "    Odd.append(u.text)\n",
    "for e in driver.find_elements_by_xpath(\"//tr[@class='even']\"):\n",
    "    Even.append(e.text)\n",
    "    \n",
    "d=Odd+Even\n",
    "d\n",
    "\n",
    "d"
   ]
  },
  {
   "cell_type": "markdown",
   "metadata": {},
   "source": [
    "# 9. e the details most watched tv series of all time from imdb.com."
   ]
  },
  {
   "cell_type": "code",
   "execution_count": 9,
   "metadata": {},
   "outputs": [],
   "source": [
    "driver.get(\"https://www.imdb.com/list/ls095964455/\")"
   ]
  },
  {
   "cell_type": "code",
   "execution_count": 19,
   "metadata": {},
   "outputs": [
    {
     "data": {
      "text/plain": [
       "['1,802,395',\n",
       " '847,590',\n",
       " '867,808',\n",
       " '260,212',\n",
       " '221,186',\n",
       " '281,318',\n",
       " '123,325',\n",
       " '257,700',\n",
       " '311,284',\n",
       " '410,798',\n",
       " '317,032',\n",
       " '732,184',\n",
       " '455,905',\n",
       " '821,474',\n",
       " '445,222',\n",
       " '153,961',\n",
       " '287,782',\n",
       " '280,780',\n",
       " '1,501,697',\n",
       " '241,743',\n",
       " '397,296',\n",
       " '483,520',\n",
       " '132,695',\n",
       " '129,549',\n",
       " '370,168',\n",
       " '210,237',\n",
       " '365,997',\n",
       " '367,749',\n",
       " '846,428',\n",
       " '612,308',\n",
       " '368,630',\n",
       " '339,178',\n",
       " '119,871',\n",
       " '113,386',\n",
       " '156,511',\n",
       " '141,559',\n",
       " '213,876',\n",
       " '435,435',\n",
       " '195,198',\n",
       " '365,913',\n",
       " '387,469',\n",
       " '54,650',\n",
       " '151,265',\n",
       " '471,162',\n",
       " '296,913',\n",
       " '51,742',\n",
       " '166,142',\n",
       " '208,899',\n",
       " '195,934',\n",
       " '202,496',\n",
       " '149,948',\n",
       " '653,397',\n",
       " '114,703',\n",
       " '308,350',\n",
       " '203,904',\n",
       " '502,989',\n",
       " '368,578',\n",
       " '419,710',\n",
       " '57,613',\n",
       " '102,714',\n",
       " '318,263',\n",
       " '67,247',\n",
       " '93,488',\n",
       " '179,496',\n",
       " '80,080',\n",
       " '65,758',\n",
       " '39,912',\n",
       " '138,022',\n",
       " '335,466',\n",
       " '236,558',\n",
       " '101,741',\n",
       " '166,169',\n",
       " '506,820',\n",
       " '92,560',\n",
       " '117,546',\n",
       " '335,078',\n",
       " '98,390',\n",
       " '188,796',\n",
       " '62,883',\n",
       " '15,559',\n",
       " '111,889',\n",
       " '120,537',\n",
       " '116,522',\n",
       " '31,779',\n",
       " '225,465',\n",
       " '113,515',\n",
       " '118,210',\n",
       " '67,851',\n",
       " '92,487',\n",
       " '161,905',\n",
       " '23,227',\n",
       " '167,575',\n",
       " '161,677',\n",
       " '567,371',\n",
       " '61,171',\n",
       " '44,214',\n",
       " '54,670',\n",
       " '165,470',\n",
       " '34,579',\n",
       " '188,167']"
      ]
     },
     "execution_count": 19,
     "metadata": {},
     "output_type": "execute_result"
    }
   ],
   "source": [
    "Name=[]\n",
    "Genre=[]\n",
    "Runtime=[]\n",
    "Rating=[]\n",
    "Votes=[]\n",
    "\n",
    "for i in driver.find_elements_by_xpath(\"//div[@class='lister-item-content']/h3\"):\n",
    "    Name.append(i.text)\n",
    "for g in driver.find_elements_by_xpath(\"//span[@class='genre']\"):\n",
    "    Genre.append(g.text)\n",
    "for r in driver.find_elements_by_xpath(\"//span[@class='runtime']\"):\n",
    "    Runtime.append(r.text)\n",
    "for t in driver.find_elements_by_xpath(\"//span[@class='ipl-rating-star__rating']\"):\n",
    "    Rating.append(t.text)\n",
    "for v in driver.find_elements_by_xpath(\"//span[@name='nv']\"):\n",
    "    Votes.append(v.text)\n",
    "\n",
    "Votes"
   ]
  },
  {
   "cell_type": "code",
   "execution_count": 21,
   "metadata": {},
   "outputs": [
    {
     "data": {
      "text/html": [
       "<div>\n",
       "<style scoped>\n",
       "    .dataframe tbody tr th:only-of-type {\n",
       "        vertical-align: middle;\n",
       "    }\n",
       "\n",
       "    .dataframe tbody tr th {\n",
       "        vertical-align: top;\n",
       "    }\n",
       "\n",
       "    .dataframe thead th {\n",
       "        text-align: right;\n",
       "    }\n",
       "</style>\n",
       "<table border=\"1\" class=\"dataframe\">\n",
       "  <thead>\n",
       "    <tr style=\"text-align: right;\">\n",
       "      <th></th>\n",
       "      <th>Name</th>\n",
       "      <th>Genre</th>\n",
       "      <th>Runtime</th>\n",
       "      <th>Votes</th>\n",
       "    </tr>\n",
       "  </thead>\n",
       "  <tbody>\n",
       "    <tr>\n",
       "      <th>0</th>\n",
       "      <td>1. Game of Thrones (2011–2019)</td>\n",
       "      <td>Action, Adventure, Drama</td>\n",
       "      <td>57 min</td>\n",
       "      <td>1,802,395</td>\n",
       "    </tr>\n",
       "    <tr>\n",
       "      <th>1</th>\n",
       "      <td>2. Stranger Things (2016– )</td>\n",
       "      <td>Drama, Fantasy, Horror</td>\n",
       "      <td>51 min</td>\n",
       "      <td>847,590</td>\n",
       "    </tr>\n",
       "    <tr>\n",
       "      <th>2</th>\n",
       "      <td>3. The Walking Dead (2010–2022)</td>\n",
       "      <td>Drama, Horror, Thriller</td>\n",
       "      <td>44 min</td>\n",
       "      <td>867,808</td>\n",
       "    </tr>\n",
       "    <tr>\n",
       "      <th>3</th>\n",
       "      <td>4. 13 Reasons Why (2017–2020)</td>\n",
       "      <td>Drama, Mystery, Thriller</td>\n",
       "      <td>60 min</td>\n",
       "      <td>260,212</td>\n",
       "    </tr>\n",
       "    <tr>\n",
       "      <th>4</th>\n",
       "      <td>5. The 100 (2014–2020)</td>\n",
       "      <td>Drama, Mystery, Sci-Fi</td>\n",
       "      <td>43 min</td>\n",
       "      <td>221,186</td>\n",
       "    </tr>\n",
       "    <tr>\n",
       "      <th>...</th>\n",
       "      <td>...</td>\n",
       "      <td>...</td>\n",
       "      <td>...</td>\n",
       "      <td>...</td>\n",
       "    </tr>\n",
       "    <tr>\n",
       "      <th>95</th>\n",
       "      <td>96. Reign (2013–2017)</td>\n",
       "      <td>Drama, Fantasy</td>\n",
       "      <td>42 min</td>\n",
       "      <td>44,214</td>\n",
       "    </tr>\n",
       "    <tr>\n",
       "      <th>96</th>\n",
       "      <td>97. A Series of Unfortunate Events (2017–2019)</td>\n",
       "      <td>Adventure, Comedy, Drama</td>\n",
       "      <td>50 min</td>\n",
       "      <td>54,670</td>\n",
       "    </tr>\n",
       "    <tr>\n",
       "      <th>97</th>\n",
       "      <td>98. Criminal Minds (2005–2020)</td>\n",
       "      <td>Crime, Drama, Mystery</td>\n",
       "      <td>42 min</td>\n",
       "      <td>165,470</td>\n",
       "    </tr>\n",
       "    <tr>\n",
       "      <th>98</th>\n",
       "      <td>99. Scream: The TV Series (2015–2019)</td>\n",
       "      <td>Comedy, Crime, Drama</td>\n",
       "      <td>45 min</td>\n",
       "      <td>34,579</td>\n",
       "    </tr>\n",
       "    <tr>\n",
       "      <th>99</th>\n",
       "      <td>100. The Haunting of Hill House (2018)</td>\n",
       "      <td>Drama, Horror, Mystery</td>\n",
       "      <td>572 min</td>\n",
       "      <td>188,167</td>\n",
       "    </tr>\n",
       "  </tbody>\n",
       "</table>\n",
       "<p>100 rows × 4 columns</p>\n",
       "</div>"
      ],
      "text/plain": [
       "                                              Name                     Genre  \\\n",
       "0                   1. Game of Thrones (2011–2019)  Action, Adventure, Drama   \n",
       "1                      2. Stranger Things (2016– )    Drama, Fantasy, Horror   \n",
       "2                  3. The Walking Dead (2010–2022)   Drama, Horror, Thriller   \n",
       "3                    4. 13 Reasons Why (2017–2020)  Drama, Mystery, Thriller   \n",
       "4                           5. The 100 (2014–2020)    Drama, Mystery, Sci-Fi   \n",
       "..                                             ...                       ...   \n",
       "95                           96. Reign (2013–2017)            Drama, Fantasy   \n",
       "96  97. A Series of Unfortunate Events (2017–2019)  Adventure, Comedy, Drama   \n",
       "97                  98. Criminal Minds (2005–2020)     Crime, Drama, Mystery   \n",
       "98           99. Scream: The TV Series (2015–2019)      Comedy, Crime, Drama   \n",
       "99          100. The Haunting of Hill House (2018)    Drama, Horror, Mystery   \n",
       "\n",
       "    Runtime      Votes  \n",
       "0    57 min  1,802,395  \n",
       "1    51 min    847,590  \n",
       "2    44 min    867,808  \n",
       "3    60 min    260,212  \n",
       "4    43 min    221,186  \n",
       "..      ...        ...  \n",
       "95   42 min     44,214  \n",
       "96   50 min     54,670  \n",
       "97   42 min    165,470  \n",
       "98   45 min     34,579  \n",
       "99  572 min    188,167  \n",
       "\n",
       "[100 rows x 4 columns]"
      ]
     },
     "execution_count": 21,
     "metadata": {},
     "output_type": "execute_result"
    }
   ],
   "source": [
    "e=pd.DataFrame({'Name':Name,\n",
    "               'Genre':Genre,\n",
    "               'Runtime':Runtime,\n",
    "               'Votes':Votes})\n",
    "\n",
    "e"
   ]
  },
  {
   "cell_type": "markdown",
   "metadata": {},
   "source": [
    "# 8.Scrape the details of Highest selling novels"
   ]
  },
  {
   "cell_type": "code",
   "execution_count": 3,
   "metadata": {},
   "outputs": [],
   "source": [
    "driver.get(\"https://www.theguardian.com/news/datablog/2012/aug/09/best-selling-books-all-time-fifty-shades-grey-compare\")"
   ]
  },
  {
   "cell_type": "code",
   "execution_count": 15,
   "metadata": {},
   "outputs": [
    {
     "data": {
      "text/plain": [
       "[\"2 Harry Potter and the Deathly Hallows Rowling, J.K. 4,475,152 Bloomsbury Children's Fiction\",\n",
       " \"4 Harry Potter and the Order of the Phoenix Rowling, J.K. 4,179,479 Bloomsbury Children's Fiction\",\n",
       " \"6 Harry Potter and the Goblet of Fire Rowling, J.K. 3,583,215 Bloomsbury Children's Fiction\",\n",
       " \"8 Harry Potter and the Prisoner of Azkaban Rowling, J.K. 3,377,906 Bloomsbury Children's Fiction\",\n",
       " \"10 Harry Potter and the Half-blood Prince:Children's Edition Rowling, J.K. 2,950,264 Bloomsbury Children's Fiction\",\n",
       " '12 Twilight Meyer, Stephenie 2,315,405 Little, Brown Book Young Adult Fiction',\n",
       " '14 Fifty Shades Freed James, E. L. 2,193,928 Random House Romance & Sagas',\n",
       " '16 New Moon Meyer, Stephenie 2,152,737 Little, Brown Book Young Adult Fiction',\n",
       " '18 Eclipse Meyer, Stephenie 2,052,876 Little, Brown Book Young Adult Fiction',\n",
       " '20 Curious Incident of the Dog in the Night-time,The Haddon, Mark 1,979,552 Random House General & Literary Fiction',\n",
       " '22 Short History of Nearly Everything,A Bryson, Bill 1,852,919 Transworld Popular Science',\n",
       " '24 Breaking Dawn Meyer, Stephenie 1,787,118 Little, Brown Book Young Adult Fiction',\n",
       " '26 Gruffalo,The Donaldson, Julia 1,781,269 Pan Macmillan Picture Books',\n",
       " '28 Kite Runner,The Hosseini, Khaled 1,629,119 Bloomsbury General & Literary Fiction',\n",
       " '30 Thousand Splendid Suns,A Hosseini, Khaled 1,583,992 Bloomsbury General & Literary Fiction',\n",
       " \"32 Time Traveler's Wife,The Niffenegger, Audrey 1,546,886 Random House General & Literary Fiction\",\n",
       " \"34 Bridget Jones's Diary:A Novel Fielding, Helen 1,508,205 Pan Macmillan General & Literary Fiction\",\n",
       " \"36 Captain Corelli's Mandolin Bernieres, Louis de 1,352,318 Random House General & Literary Fiction\",\n",
       " '38 Life of Pi Martel, Yann 1,310,176 Canongate General & Literary Fiction',\n",
       " '40 Child Called It,A Pelzer, Dave 1,217,712 Orion Autobiography: General',\n",
       " \"42 Angela's Ashes:A Memoir of a Childhood McCourt, Frank 1,204,058 HarperCollins Autobiography: General\",\n",
       " '44 Northern Lights:His Dark Materials S. Pullman, Philip 1,181,503 Scholastic Ltd. Young Adult Fiction',\n",
       " '46 Harry Potter and the Half-blood Prince Rowling, J.K. 1,153,181 Bloomsbury Science Fiction & Fantasy',\n",
       " '48 Man and Boy Parsons, Tony 1,130,802 HarperCollins General & Literary Fiction',\n",
       " \"50 No.1 Ladies' Detective Agency,The:No.1 Ladies' Detective Agency S. McCall Smith, Alexander 1,115,549 Little, Brown Book Crime, Thriller & Adventure\",\n",
       " '52 PS, I Love You Ahern, Cecelia 1,107,379 HarperCollins General & Literary Fiction',\n",
       " '54 Shadow of the Wind,The Zafon, Carlos Ruiz 1,092,349 Orion General & Literary Fiction',\n",
       " '56 Broker,The Grisham, John 1,087,262 Random House Crime, Thriller & Adventure',\n",
       " '58 Subtle Knife,The:His Dark Materials S. Pullman, Philip 1,037,160 Scholastic Ltd. Young Adult Fiction',\n",
       " \"60 Delia's How to Cook:(Bk.1) Smith, Delia 1,015,956 Random House Food & Drink: General\",\n",
       " '62 Boy in the Striped Pyjamas,The Boyne, John 1,004,414 Random House Childrens Books G Young Adult Fiction',\n",
       " '64 Amber Spyglass,The:His Dark Materials S. Pullman, Philip 1,002,314 Scholastic Ltd. Young Adult Fiction',\n",
       " '66 Men are from Mars, Women are from Venus:A Practical Guide for Improvin Gray, John 992,846 HarperCollins Popular Culture & Media: General Interest',\n",
       " '68 Short History of Tractors in Ukrainian,A Lewycka, Marina 986,115 Penguin General & Literary Fiction',\n",
       " '70 Lord of the Rings,The Tolkien, J. R. R. 967,466 HarperCollins Science Fiction & Fantasy',\n",
       " '72 Interpretation of Murder,The Rubenfeld, Jed 962,515 Headline Crime, Thriller & Adventure',\n",
       " '74 Alchemist,The:A Fable About Following Your Dream Coelho, Paulo 956,114 HarperCollins General & Literary Fiction',\n",
       " '76 Notes from a Small Island Bryson, Bill 931,312 Transworld Travel Writing',\n",
       " '78 Bridget Jones: The Edge of Reason Fielding, Helen 924,695 Pan Macmillan General & Literary Fiction',\n",
       " '80 I Can Make You Thin McKenna, Paul 905,086 Transworld Fitness & Diet',\n",
       " '82 Summons,The Grisham, John 869,671 Random House Crime, Thriller & Adventure',\n",
       " '84 Nigella Express Lawson, Nigella 862,602 Random House Food & Drink: General',\n",
       " \"86 Memory Keeper's Daughter,The Edwards, Kim 845,858 Penguin General & Literary Fiction\",\n",
       " '88 About a Boy Hornby, Nick 828,215 Penguin General & Literary Fiction',\n",
       " '90 God Delusion,The Dawkins, Richard 816,907 Transworld Popular Science',\n",
       " '92 White Teeth Smith, Zadie 815,586 Penguin General & Literary Fiction',\n",
       " '94 Book Thief,The Zusak, Markus 809,641 Transworld General & Literary Fiction',\n",
       " '96 Ghost,The Harris, Robert 807,311 Random House General & Literary Fiction',\n",
       " '98 Hunger Games,The:Hunger Games Trilogy Collins, Suzanne 792,187 Scholastic Ltd. Young Adult Fiction',\n",
       " \"100 Jamie's Ministry of Food:Anyone Can Learn to Cook in 24 Hours Oliver, Jamie 791,095 Penguin Food & Drink: General\"]"
      ]
     },
     "execution_count": 15,
     "metadata": {},
     "output_type": "execute_result"
    }
   ],
   "source": [
    "Nm=[]\n",
    "for i in driver.find_elements_by_xpath(\"//tr[@class='odd']\"):\n",
    "    Nm.append(i.text)\n",
    "    \n",
    "Nm\n"
   ]
  },
  {
   "cell_type": "code",
   "execution_count": 21,
   "metadata": {},
   "outputs": [
    {
     "data": {
      "text/plain": [
       "['Top 100 best selling books of all time\\nUK sales only. Click heading to sort table. Download this data\\nRank\\nTitle\\nAuthor\\nVolume Sales\\nPublisher\\nGenre\\nSOURCE: NIELSEN BOOK SCAN\\n1 Da Vinci Code,The Brown, Dan 5,094,805 Transworld Crime, Thriller & Adventure\\n2 Harry Potter and the Deathly Hallows Rowling, J.K. 4,475,152 Bloomsbury Children\\'s Fiction\\n3 Harry Potter and the Philosopher\\'s Stone Rowling, J.K. 4,200,654 Bloomsbury Children\\'s Fiction\\n4 Harry Potter and the Order of the Phoenix Rowling, J.K. 4,179,479 Bloomsbury Children\\'s Fiction\\n5 Fifty Shades of Grey James, E. L. 3,758,936 Random House Romance & Sagas\\n6 Harry Potter and the Goblet of Fire Rowling, J.K. 3,583,215 Bloomsbury Children\\'s Fiction\\n7 Harry Potter and the Chamber of Secrets Rowling, J.K. 3,484,047 Bloomsbury Children\\'s Fiction\\n8 Harry Potter and the Prisoner of Azkaban Rowling, J.K. 3,377,906 Bloomsbury Children\\'s Fiction\\n9 Angels and Demons Brown, Dan 3,193,946 Transworld Crime, Thriller & Adventure\\n10 Harry Potter and the Half-blood Prince:Children\\'s Edition Rowling, J.K. 2,950,264 Bloomsbury Children\\'s Fiction\\n11 Fifty Shades Darker James, E. L. 2,479,784 Random House Romance & Sagas\\n12 Twilight Meyer, Stephenie 2,315,405 Little, Brown Book Young Adult Fiction\\n13 Girl with the Dragon Tattoo,The:Millennium Trilogy Larsson, Stieg 2,233,570 Quercus Crime, Thriller & Adventure\\n14 Fifty Shades Freed James, E. L. 2,193,928 Random House Romance & Sagas\\n15 Lost Symbol,The Brown, Dan 2,183,031 Transworld Crime, Thriller & Adventure\\n16 New Moon Meyer, Stephenie 2,152,737 Little, Brown Book Young Adult Fiction\\n17 Deception Point Brown, Dan 2,062,145 Transworld Crime, Thriller & Adventure\\n18 Eclipse Meyer, Stephenie 2,052,876 Little, Brown Book Young Adult Fiction\\n19 Lovely Bones,The Sebold, Alice 2,005,598 Pan Macmillan General & Literary Fiction\\n20 Curious Incident of the Dog in the Night-time,The Haddon, Mark 1,979,552 Random House General & Literary Fiction\\n21 Digital Fortress Brown, Dan 1,928,900 Transworld Crime, Thriller & Adventure\\n22 Short History of Nearly Everything,A Bryson, Bill 1,852,919 Transworld Popular Science\\n23 Girl Who Played with Fire,The:Millennium Trilogy Larsson, Stieg 1,814,784 Quercus Crime, Thriller & Adventure\\n24 Breaking Dawn Meyer, Stephenie 1,787,118 Little, Brown Book Young Adult Fiction\\n25 Very Hungry Caterpillar,The:The Very Hungry Caterpillar Carle, Eric 1,783,535 Penguin Picture Books\\n26 Gruffalo,The Donaldson, Julia 1,781,269 Pan Macmillan Picture Books\\n27 Jamie\\'s 30-Minute Meals Oliver, Jamie 1,743,266 Penguin Food & Drink: General\\n28 Kite Runner,The Hosseini, Khaled 1,629,119 Bloomsbury General & Literary Fiction\\n29 One Day Nicholls, David 1,616,068 Hodder & Stoughton General & Literary Fiction\\n30 Thousand Splendid Suns,A Hosseini, Khaled 1,583,992 Bloomsbury General & Literary Fiction\\n31 Girl Who Kicked the Hornets\\' Nest,The:Millennium Trilogy Larsson, Stieg 1,555,135 Quercus Crime, Thriller & Adventure\\n32 Time Traveler\\'s Wife,The Niffenegger, Audrey 1,546,886 Random House General & Literary Fiction\\n33 Atonement McEwan, Ian 1,539,428 Random House General & Literary Fiction\\n34 Bridget Jones\\'s Diary:A Novel Fielding, Helen 1,508,205 Pan Macmillan General & Literary Fiction\\n35 World According to Clarkson,The Clarkson, Jeremy 1,489,403 Penguin Humour: Collections & General\\n36 Captain Corelli\\'s Mandolin Bernieres, Louis de 1,352,318 Random House General & Literary Fiction\\n37 Sound of Laughter,The Kay, Peter 1,310,207 Random House Autobiography: General\\n38 Life of Pi Martel, Yann 1,310,176 Canongate General & Literary Fiction\\n39 Billy Connolly Stephenson, Pamela 1,231,957 HarperCollins Biography: The Arts\\n40 Child Called It,A Pelzer, Dave 1,217,712 Orion Autobiography: General\\n41 Gruffalo\\'s Child,The Donaldson, Julia 1,208,711 Pan Macmillan Picture Books\\n42 Angela\\'s Ashes:A Memoir of a Childhood McCourt, Frank 1,204,058 HarperCollins Autobiography: General\\n43 Birdsong Faulks, Sebastian 1,184,967 Random House General & Literary Fiction\\n44 Northern Lights:His Dark Materials S. Pullman, Philip 1,181,503 Scholastic Ltd. Young Adult Fiction\\n45 Labyrinth Mosse, Kate 1,181,093 Orion General & Literary Fiction\\n46 Harry Potter and the Half-blood Prince Rowling, J.K. 1,153,181 Bloomsbury Science Fiction & Fantasy\\n47 Help,The Stockett, Kathryn 1,132,336 Penguin General & Literary Fiction\\n48 Man and Boy Parsons, Tony 1,130,802 HarperCollins General & Literary Fiction\\n49 Memoirs of a Geisha Golden, Arthur 1,126,337 Random House General & Literary Fiction\\n50 No.1 Ladies\\' Detective Agency,The:No.1 Ladies\\' Detective Agency S. McCall Smith, Alexander 1,115,549 Little, Brown Book Crime, Thriller & Adventure\\n51 Island,The Hislop, Victoria 1,108,328 Headline General & Literary Fiction\\n52 PS, I Love You Ahern, Cecelia 1,107,379 HarperCollins General & Literary Fiction\\n53 You are What You Eat:The Plan That Will Change Your Life McKeith, Gillian 1,104,403 Penguin Fitness & Diet\\n54 Shadow of the Wind,The Zafon, Carlos Ruiz 1,092,349 Orion General & Literary Fiction\\n55 Tales of Beedle the Bard,The Rowling, J.K. 1,090,847 Bloomsbury Children\\'s Fiction\\n56 Broker,The Grisham, John 1,087,262 Random House Crime, Thriller & Adventure\\n57 Dr. Atkins\\' New Diet Revolution:The No-hunger, Luxurious Weight Loss P Atkins, Robert C. 1,054,196 Random House Fitness & Diet\\n58 Subtle Knife,The:His Dark Materials S. Pullman, Philip 1,037,160 Scholastic Ltd. Young Adult Fiction\\n59 Eats, Shoots and Leaves:The Zero Tolerance Approach to Punctuation Truss, Lynne 1,023,688 Profile Books Group Usage & Writing Guides\\n60 Delia\\'s How to Cook:(Bk.1) Smith, Delia 1,015,956 Random House Food & Drink: General\\n61 Chocolat Harris, Joanne 1,009,873 Transworld General & Literary Fiction\\n62 Boy in the Striped Pyjamas,The Boyne, John 1,004,414 Random House Childrens Books G Young Adult Fiction\\n63 My Sister\\'s Keeper Picoult, Jodi 1,003,780 Hodder & Stoughton General & Literary Fiction\\n64 Amber Spyglass,The:His Dark Materials S. Pullman, Philip 1,002,314 Scholastic Ltd. Young Adult Fiction\\n65 To Kill a Mockingbird Lee, Harper 998,213 Random House General & Literary Fiction\\n66 Men are from Mars, Women are from Venus:A Practical Guide for Improvin Gray, John 992,846 HarperCollins Popular Culture & Media: General Interest\\n67 Dear Fatty French, Dawn 986,753 Random House Autobiography: The Arts\\n68 Short History of Tractors in Ukrainian,A Lewycka, Marina 986,115 Penguin General & Literary Fiction\\n69 Hannibal Harris, Thomas 970,509 Random House Crime, Thriller & Adventure\\n70 Lord of the Rings,The Tolkien, J. R. R. 967,466 HarperCollins Science Fiction & Fantasy\\n71 Stupid White Men:...and Other Sorry Excuses for the State of the Natio Moore, Michael 963,353 Penguin Current Affairs & Issues\\n72 Interpretation of Murder,The Rubenfeld, Jed 962,515 Headline Crime, Thriller & Adventure\\n73 Sharon Osbourne Extreme:My Autobiography Osbourne, Sharon 959,496 Little, Brown Book Autobiography: The Arts\\n74 Alchemist,The:A Fable About Following Your Dream Coelho, Paulo 956,114 HarperCollins General & Literary Fiction\\n75 At My Mother\\'s Knee ...:and Other Low Joints O\\'Grady, Paul 945,640 Transworld Autobiography: The Arts\\n76 Notes from a Small Island Bryson, Bill 931,312 Transworld Travel Writing\\n77 Return of the Naked Chef,The Oliver, Jamie 925,425 Penguin Food & Drink: General\\n78 Bridget Jones: The Edge of Reason Fielding, Helen 924,695 Pan Macmillan General & Literary Fiction\\n79 Jamie\\'s Italy Oliver, Jamie 906,968 Penguin National & Regional Cuisine\\n80 I Can Make You Thin McKenna, Paul 905,086 Transworld Fitness & Diet\\n81 Down Under Bryson, Bill 890,847 Transworld Travel Writing\\n82 Summons,The Grisham, John 869,671 Random House Crime, Thriller & Adventure\\n83 Small Island Levy, Andrea 869,659 Headline General & Literary Fiction\\n84 Nigella Express Lawson, Nigella 862,602 Random House Food & Drink: General\\n85 Brick Lane Ali, Monica 856,540 Transworld General & Literary Fiction\\n86 Memory Keeper\\'s Daughter,The Edwards, Kim 845,858 Penguin General & Literary Fiction\\n87 Room on the Broom Donaldson, Julia 842,535 Pan Macmillan Picture Books\\n88 About a Boy Hornby, Nick 828,215 Penguin General & Literary Fiction\\n89 My Booky Wook Brand, Russell 820,563 Hodder & Stoughton Autobiography: The Arts\\n90 God Delusion,The Dawkins, Richard 816,907 Transworld Popular Science\\n91 \"Beano\" Annual,The 0 816,585 D.C. Thomson Children\\'s Annuals\\n92 White Teeth Smith, Zadie 815,586 Penguin General & Literary Fiction\\n93 House at Riverton,The Morton, Kate 814,370 Pan Macmillan General & Literary Fiction\\n94 Book Thief,The Zusak, Markus 809,641 Transworld General & Literary Fiction\\n95 Nights of Rain and Stars Binchy, Maeve 808,900 Orion General & Literary Fiction\\n96 Ghost,The Harris, Robert 807,311 Random House General & Literary Fiction\\n97 Happy Days with the Naked Chef Oliver, Jamie 794,201 Penguin Food & Drink: General\\n98 Hunger Games,The:Hunger Games Trilogy Collins, Suzanne 792,187 Scholastic Ltd. Young Adult Fiction\\n99 Lost Boy,The:A Foster Child\\'s Search for the Love of a Family Pelzer, Dave 791,507 Orion Biography: General\\n100 Jamie\\'s Ministry of Food:Anyone Can Learn to Cook in 24 Hours Oliver, Jamie 791,095 Penguin Food & Drink: General']"
      ]
     },
     "execution_count": 21,
     "metadata": {},
     "output_type": "execute_result"
    }
   ],
   "source": [
    "Nam=[]\n",
    "for c in driver.find_elements_by_xpath(\"//div[@class='embed block']\"):\n",
    "    Nam.append(c.text)\n",
    "    \n",
    "Nam"
   ]
  },
  {
   "cell_type": "markdown",
   "metadata": {},
   "source": [
    "# 7.Scrape the details of Data science recruiters from naukri.com.\n"
   ]
  },
  {
   "cell_type": "code",
   "execution_count": 3,
   "metadata": {},
   "outputs": [],
   "source": [
    "btn=driver.get(\"https://www.naukri.com/browse-jobs\")\n",
    "btn"
   ]
  },
  {
   "cell_type": "code",
   "execution_count": 4,
   "metadata": {},
   "outputs": [],
   "source": [
    "s_btn=driver.find_element_by_xpath(\"//input[@class='sugInp']\")\n",
    "s_btn.send_keys('Data Science')\n",
    "btn=driver.find_element_by_xpath(\"//button[@class='qsbSrch blueBtn']\")\n",
    "btn.click()"
   ]
  },
  {
   "cell_type": "code",
   "execution_count": 6,
   "metadata": {},
   "outputs": [
    {
     "data": {
      "text/plain": [
       "['Data Science Application Lead', 'Manager Data Science Analytics']"
      ]
     },
     "execution_count": 6,
     "metadata": {},
     "output_type": "execute_result"
    }
   ],
   "source": [
    "Title=[]\n",
    "for t in driver.find_elements_by_xpath(\"//a[@class='title fw500 ellipsis']\"):\n",
    "    Title.append(t.text)\n",
    "Title[:2]"
   ]
  },
  {
   "cell_type": "code",
   "execution_count": 7,
   "metadata": {},
   "outputs": [
    {
     "data": {
      "text/plain": [
       "['Data Science / Analytics Consultant', 'Data Science / Analytics Consultant']"
      ]
     },
     "execution_count": 7,
     "metadata": {},
     "output_type": "execute_result"
    }
   ],
   "source": [
    "Company=[]\n",
    "for c in driver.find_elements_by_xpath(\"//a[@class='subTitle ellipsis fleft']\"):\n",
    "    Company.append(t.text)\n",
    "Company[:2]"
   ]
  },
  {
   "cell_type": "code",
   "execution_count": 12,
   "metadata": {},
   "outputs": [
    {
     "data": {
      "text/plain": [
       "['Educational Qualification : minimum 15 years of full time education Must Have Skills : ...',\n",
       " 'You should be able to mentorcoach junior team members to continuously upskill them']"
      ]
     },
     "execution_count": 12,
     "metadata": {},
     "output_type": "execute_result"
    }
   ],
   "source": [
    "Skills=[]\n",
    "for s in driver.find_elements_by_xpath(\"//div[@class='job-description fs12 grey-text']\"):\n",
    "    Skills.append(s.text)\n",
    "Skills[:2]"
   ]
  },
  {
   "cell_type": "code",
   "execution_count": 9,
   "metadata": {},
   "outputs": [
    {
     "data": {
      "text/plain": [
       "['Bangalore/Bengaluru', 'Bangalore/Bengaluru']"
      ]
     },
     "execution_count": 9,
     "metadata": {},
     "output_type": "execute_result"
    }
   ],
   "source": [
    "job_location=[]\n",
    "locations=driver.find_elements_by_xpath(\"//li[@class='fleft grey-text br2 placeHolderLi location']/span[1]\")\n",
    "for i in locations:\n",
    "    if i.text is None :\n",
    "        job_location.append(\"--\") \n",
    "    else:\n",
    "        job_location.append(i.text)\n",
    "job_location[0:2]"
   ]
  },
  {
   "cell_type": "code",
   "execution_count": 10,
   "metadata": {},
   "outputs": [
    {
     "data": {
      "text/html": [
       "<div>\n",
       "<style scoped>\n",
       "    .dataframe tbody tr th:only-of-type {\n",
       "        vertical-align: middle;\n",
       "    }\n",
       "\n",
       "    .dataframe tbody tr th {\n",
       "        vertical-align: top;\n",
       "    }\n",
       "\n",
       "    .dataframe thead th {\n",
       "        text-align: right;\n",
       "    }\n",
       "</style>\n",
       "<table border=\"1\" class=\"dataframe\">\n",
       "  <thead>\n",
       "    <tr style=\"text-align: right;\">\n",
       "      <th></th>\n",
       "      <th>Title</th>\n",
       "      <th>Company</th>\n",
       "      <th>job_location</th>\n",
       "    </tr>\n",
       "  </thead>\n",
       "  <tbody>\n",
       "    <tr>\n",
       "      <th>0</th>\n",
       "      <td>Data Science Application Lead</td>\n",
       "      <td>Data Science / Analytics Consultant</td>\n",
       "      <td>Bangalore/Bengaluru</td>\n",
       "    </tr>\n",
       "    <tr>\n",
       "      <th>1</th>\n",
       "      <td>Manager Data Science Analytics</td>\n",
       "      <td>Data Science / Analytics Consultant</td>\n",
       "      <td>Bangalore/Bengaluru</td>\n",
       "    </tr>\n",
       "    <tr>\n",
       "      <th>2</th>\n",
       "      <td>Associate Director Data Science</td>\n",
       "      <td>Data Science / Analytics Consultant</td>\n",
       "      <td>Hyderabad/Secunderabad</td>\n",
       "    </tr>\n",
       "    <tr>\n",
       "      <th>3</th>\n",
       "      <td>Analyst - Data Science</td>\n",
       "      <td>Data Science / Analytics Consultant</td>\n",
       "      <td>Bengaluru</td>\n",
       "    </tr>\n",
       "    <tr>\n",
       "      <th>4</th>\n",
       "      <td>Python and DAta SCIENCE Developer</td>\n",
       "      <td>Data Science / Analytics Consultant</td>\n",
       "      <td>Mohali</td>\n",
       "    </tr>\n",
       "    <tr>\n",
       "      <th>5</th>\n",
       "      <td>Data Science Machine Learning Engineering manager</td>\n",
       "      <td>Data Science / Analytics Consultant</td>\n",
       "      <td>Not specified</td>\n",
       "    </tr>\n",
       "    <tr>\n",
       "      <th>6</th>\n",
       "      <td>Manager , Data Science</td>\n",
       "      <td>Data Science / Analytics Consultant</td>\n",
       "      <td>Pune</td>\n",
       "    </tr>\n",
       "    <tr>\n",
       "      <th>7</th>\n",
       "      <td>Data Science Engineer</td>\n",
       "      <td>Data Science / Analytics Consultant</td>\n",
       "      <td>Bengaluru</td>\n",
       "    </tr>\n",
       "    <tr>\n",
       "      <th>8</th>\n",
       "      <td>Data Science on Data Lake Storage</td>\n",
       "      <td>Data Science / Analytics Consultant</td>\n",
       "      <td>Hyderabad/Secunderabad</td>\n",
       "    </tr>\n",
       "    <tr>\n",
       "      <th>9</th>\n",
       "      <td>Senior Data Science &amp; Analytics Platform Engineer</td>\n",
       "      <td>Data Science / Analytics Consultant</td>\n",
       "      <td>Bangalore/Bengaluru</td>\n",
       "    </tr>\n",
       "    <tr>\n",
       "      <th>10</th>\n",
       "      <td>Data Science Lead</td>\n",
       "      <td>Data Science / Analytics Consultant</td>\n",
       "      <td>Gurgaon/Gurugram</td>\n",
       "    </tr>\n",
       "    <tr>\n",
       "      <th>11</th>\n",
       "      <td>Senior Data Science Engineer</td>\n",
       "      <td>Data Science / Analytics Consultant</td>\n",
       "      <td>Chennai</td>\n",
       "    </tr>\n",
       "    <tr>\n",
       "      <th>12</th>\n",
       "      <td>SAVP - Data Scientist - Data Science Team - In...</td>\n",
       "      <td>Data Science / Analytics Consultant</td>\n",
       "      <td>Gurgaon/Gurugram</td>\n",
       "    </tr>\n",
       "    <tr>\n",
       "      <th>13</th>\n",
       "      <td>Data Science Intern - DataTrained</td>\n",
       "      <td>Data Science / Analytics Consultant</td>\n",
       "      <td>Noida, Bangalore/Bengaluru, Delhi / NCR</td>\n",
       "    </tr>\n",
       "    <tr>\n",
       "      <th>14</th>\n",
       "      <td>Data Science Manager</td>\n",
       "      <td>Data Science / Analytics Consultant</td>\n",
       "      <td>Hyderabad/Secunderabad</td>\n",
       "    </tr>\n",
       "    <tr>\n",
       "      <th>15</th>\n",
       "      <td>Data Science Team Lead</td>\n",
       "      <td>Data Science / Analytics Consultant</td>\n",
       "      <td>Chennai</td>\n",
       "    </tr>\n",
       "    <tr>\n",
       "      <th>16</th>\n",
       "      <td>Data Science Team Lead</td>\n",
       "      <td>Data Science / Analytics Consultant</td>\n",
       "      <td>Chennai</td>\n",
       "    </tr>\n",
       "    <tr>\n",
       "      <th>17</th>\n",
       "      <td>Data Science Engineer</td>\n",
       "      <td>Data Science / Analytics Consultant</td>\n",
       "      <td>Bangalore/Bengaluru</td>\n",
       "    </tr>\n",
       "    <tr>\n",
       "      <th>18</th>\n",
       "      <td>Data Science - Fresher | Client of Ruboid | Ba...</td>\n",
       "      <td>Data Science / Analytics Consultant</td>\n",
       "      <td>Bangalore/Bengaluru</td>\n",
       "    </tr>\n",
       "    <tr>\n",
       "      <th>19</th>\n",
       "      <td>Data Science / Analytics Consultant</td>\n",
       "      <td>Data Science / Analytics Consultant</td>\n",
       "      <td>Mumbai</td>\n",
       "    </tr>\n",
       "  </tbody>\n",
       "</table>\n",
       "</div>"
      ],
      "text/plain": [
       "                                                Title  \\\n",
       "0                       Data Science Application Lead   \n",
       "1                      Manager Data Science Analytics   \n",
       "2                     Associate Director Data Science   \n",
       "3                              Analyst - Data Science   \n",
       "4                   Python and DAta SCIENCE Developer   \n",
       "5   Data Science Machine Learning Engineering manager   \n",
       "6                              Manager , Data Science   \n",
       "7                               Data Science Engineer   \n",
       "8                   Data Science on Data Lake Storage   \n",
       "9   Senior Data Science & Analytics Platform Engineer   \n",
       "10                                  Data Science Lead   \n",
       "11                       Senior Data Science Engineer   \n",
       "12  SAVP - Data Scientist - Data Science Team - In...   \n",
       "13                  Data Science Intern - DataTrained   \n",
       "14                               Data Science Manager   \n",
       "15                             Data Science Team Lead   \n",
       "16                             Data Science Team Lead   \n",
       "17                              Data Science Engineer   \n",
       "18  Data Science - Fresher | Client of Ruboid | Ba...   \n",
       "19                Data Science / Analytics Consultant   \n",
       "\n",
       "                                Company  \\\n",
       "0   Data Science / Analytics Consultant   \n",
       "1   Data Science / Analytics Consultant   \n",
       "2   Data Science / Analytics Consultant   \n",
       "3   Data Science / Analytics Consultant   \n",
       "4   Data Science / Analytics Consultant   \n",
       "5   Data Science / Analytics Consultant   \n",
       "6   Data Science / Analytics Consultant   \n",
       "7   Data Science / Analytics Consultant   \n",
       "8   Data Science / Analytics Consultant   \n",
       "9   Data Science / Analytics Consultant   \n",
       "10  Data Science / Analytics Consultant   \n",
       "11  Data Science / Analytics Consultant   \n",
       "12  Data Science / Analytics Consultant   \n",
       "13  Data Science / Analytics Consultant   \n",
       "14  Data Science / Analytics Consultant   \n",
       "15  Data Science / Analytics Consultant   \n",
       "16  Data Science / Analytics Consultant   \n",
       "17  Data Science / Analytics Consultant   \n",
       "18  Data Science / Analytics Consultant   \n",
       "19  Data Science / Analytics Consultant   \n",
       "\n",
       "                               job_location  \n",
       "0                       Bangalore/Bengaluru  \n",
       "1                       Bangalore/Bengaluru  \n",
       "2                    Hyderabad/Secunderabad  \n",
       "3                                 Bengaluru  \n",
       "4                                    Mohali  \n",
       "5                             Not specified  \n",
       "6                                      Pune  \n",
       "7                                 Bengaluru  \n",
       "8                    Hyderabad/Secunderabad  \n",
       "9                       Bangalore/Bengaluru  \n",
       "10                         Gurgaon/Gurugram  \n",
       "11                                  Chennai  \n",
       "12                         Gurgaon/Gurugram  \n",
       "13  Noida, Bangalore/Bengaluru, Delhi / NCR  \n",
       "14                   Hyderabad/Secunderabad  \n",
       "15                                  Chennai  \n",
       "16                                  Chennai  \n",
       "17                      Bangalore/Bengaluru  \n",
       "18                      Bangalore/Bengaluru  \n",
       "19                                   Mumbai  "
      ]
     },
     "execution_count": 10,
     "metadata": {},
     "output_type": "execute_result"
    }
   ],
   "source": [
    "cf=pd.DataFrame({'Title':Title,\n",
    "                'Company':Company,\n",
    "                'job_location':job_location})\n",
    "cf"
   ]
  },
  {
   "cell_type": "markdown",
   "metadata": {},
   "source": [
    "# 6.Scrape the details of top 100 songs on billiboard.com"
   ]
  },
  {
   "cell_type": "code",
   "execution_count": 89,
   "metadata": {},
   "outputs": [],
   "source": [
    "driver.get(\"https://www.billboard.com/\")"
   ]
  },
  {
   "cell_type": "code",
   "execution_count": 90,
   "metadata": {},
   "outputs": [],
   "source": [
    "drp=driver.find_element_by_xpath(\"/html/body/div[2]/div[2]/div[2]/nav/ul/li[3]/a\")\n",
    "drp.click()\n"
   ]
  },
  {
   "cell_type": "code",
   "execution_count": 38,
   "metadata": {},
   "outputs": [
    {
     "data": {
      "text/plain": [
       "['Save Your Tears', 'Leave The Door Open']"
      ]
     },
     "execution_count": 38,
     "metadata": {},
     "output_type": "execute_result"
    }
   ],
   "source": [
    "Song=[]\n",
    "for s in driver.find_elements_by_xpath(\"//span[@class='chart-element__information__song text--truncate color--primary']\"):\n",
    "    Song.append(s.text)\n",
    "Song[:2]"
   ]
  },
  {
   "cell_type": "code",
   "execution_count": 40,
   "metadata": {},
   "outputs": [
    {
     "data": {
      "text/plain": [
       "['The Weeknd & Ariana Grande', 'Silk Sonic (Bruno Mars & Anderson .Paak)']"
      ]
     },
     "execution_count": 40,
     "metadata": {},
     "output_type": "execute_result"
    }
   ],
   "source": [
    "Artist=[]\n",
    "for a in driver.find_elements_by_xpath(\"//span[@class='chart-element__information__artist text--truncate color--secondary']\"):\n",
    "    Artist.append(a.text)\n",
    "    \n",
    "Artist[:2]"
   ]
  },
  {
   "cell_type": "code",
   "execution_count": 43,
   "metadata": {},
   "outputs": [
    {
     "data": {
      "text/plain": [
       "['6 LW', '2 LW']"
      ]
     },
     "execution_count": 43,
     "metadata": {},
     "output_type": "execute_result"
    }
   ],
   "source": [
    "LW=[]\n",
    "for l in driver.find_elements_by_xpath(\"//span[@class='chart-element__meta text--center color--secondary text--last']\"):\n",
    "    LW.append(l.text)\n",
    "LW[:2]"
   ]
  },
  {
   "cell_type": "code",
   "execution_count": 45,
   "metadata": {},
   "outputs": [
    {
     "data": {
      "text/plain": [
       "['1 Pk', '1 Pk']"
      ]
     },
     "execution_count": 45,
     "metadata": {},
     "output_type": "execute_result"
    }
   ],
   "source": [
    "PK=[]\n",
    "for p in driver.find_elements_by_xpath(\"//span[@class='chart-element__meta text--center color--secondary text--peak']\"):\n",
    "    PK.append(p.text)\n",
    "PK[:2]"
   ]
  },
  {
   "cell_type": "code",
   "execution_count": 47,
   "metadata": {},
   "outputs": [
    {
     "data": {
      "text/plain": [
       "['20 WoC', '8 WoC']"
      ]
     },
     "execution_count": 47,
     "metadata": {},
     "output_type": "execute_result"
    }
   ],
   "source": [
    "WOC=[]\n",
    "for w in driver.find_elements_by_xpath(\"//span[@class='chart-element__meta text--center color--secondary text--week']\"):\n",
    "    WOC.append(w.text)\n",
    "WOC[:2]"
   ]
  },
  {
   "cell_type": "code",
   "execution_count": 48,
   "metadata": {},
   "outputs": [
    {
     "data": {
      "text/html": [
       "<div>\n",
       "<style scoped>\n",
       "    .dataframe tbody tr th:only-of-type {\n",
       "        vertical-align: middle;\n",
       "    }\n",
       "\n",
       "    .dataframe tbody tr th {\n",
       "        vertical-align: top;\n",
       "    }\n",
       "\n",
       "    .dataframe thead th {\n",
       "        text-align: right;\n",
       "    }\n",
       "</style>\n",
       "<table border=\"1\" class=\"dataframe\">\n",
       "  <thead>\n",
       "    <tr style=\"text-align: right;\">\n",
       "      <th></th>\n",
       "      <th>Song</th>\n",
       "      <th>Artist</th>\n",
       "      <th>LW</th>\n",
       "      <th>PK</th>\n",
       "      <th>WOC</th>\n",
       "    </tr>\n",
       "  </thead>\n",
       "  <tbody>\n",
       "    <tr>\n",
       "      <th>0</th>\n",
       "      <td>Save Your Tears</td>\n",
       "      <td>The Weeknd &amp; Ariana Grande</td>\n",
       "      <td>6 LW</td>\n",
       "      <td>1 Pk</td>\n",
       "      <td>20 WoC</td>\n",
       "    </tr>\n",
       "    <tr>\n",
       "      <th>1</th>\n",
       "      <td>Leave The Door Open</td>\n",
       "      <td>Silk Sonic (Bruno Mars &amp; Anderson .Paak)</td>\n",
       "      <td>2 LW</td>\n",
       "      <td>1 Pk</td>\n",
       "      <td>8 WoC</td>\n",
       "    </tr>\n",
       "    <tr>\n",
       "      <th>2</th>\n",
       "      <td>Peaches</td>\n",
       "      <td>Justin Bieber Featuring Daniel Caesar &amp; Giveon</td>\n",
       "      <td>3 LW</td>\n",
       "      <td>1 Pk</td>\n",
       "      <td>6 WoC</td>\n",
       "    </tr>\n",
       "    <tr>\n",
       "      <th>3</th>\n",
       "      <td>Rapstar</td>\n",
       "      <td>Polo G</td>\n",
       "      <td>1 LW</td>\n",
       "      <td>1 Pk</td>\n",
       "      <td>3 WoC</td>\n",
       "    </tr>\n",
       "    <tr>\n",
       "      <th>4</th>\n",
       "      <td>Levitating</td>\n",
       "      <td>Dua Lipa Featuring DaBaby</td>\n",
       "      <td>5 LW</td>\n",
       "      <td>5 Pk</td>\n",
       "      <td>30 WoC</td>\n",
       "    </tr>\n",
       "    <tr>\n",
       "      <th>...</th>\n",
       "      <td>...</td>\n",
       "      <td>...</td>\n",
       "      <td>...</td>\n",
       "      <td>...</td>\n",
       "      <td>...</td>\n",
       "    </tr>\n",
       "    <tr>\n",
       "      <th>95</th>\n",
       "      <td>4 Da Gang</td>\n",
       "      <td>42 Dugg &amp; Roddy Ricch</td>\n",
       "      <td>100 LW</td>\n",
       "      <td>67 Pk</td>\n",
       "      <td>4 WoC</td>\n",
       "    </tr>\n",
       "    <tr>\n",
       "      <th>96</th>\n",
       "      <td>Blame It On You</td>\n",
       "      <td>Jason Aldean</td>\n",
       "      <td></td>\n",
       "      <td>97 Pk</td>\n",
       "      <td>1 WoC</td>\n",
       "    </tr>\n",
       "    <tr>\n",
       "      <th>97</th>\n",
       "      <td>Wasted On You</td>\n",
       "      <td>Morgan Wallen</td>\n",
       "      <td>92 LW</td>\n",
       "      <td>9 Pk</td>\n",
       "      <td>16 WoC</td>\n",
       "    </tr>\n",
       "    <tr>\n",
       "      <th>98</th>\n",
       "      <td>Way Less Sad</td>\n",
       "      <td>AJR</td>\n",
       "      <td></td>\n",
       "      <td>99 Pk</td>\n",
       "      <td>1 WoC</td>\n",
       "    </tr>\n",
       "    <tr>\n",
       "      <th>99</th>\n",
       "      <td>Clear Da Air</td>\n",
       "      <td>Moneybagg Yo</td>\n",
       "      <td></td>\n",
       "      <td>100 Pk</td>\n",
       "      <td>1 WoC</td>\n",
       "    </tr>\n",
       "  </tbody>\n",
       "</table>\n",
       "<p>100 rows × 5 columns</p>\n",
       "</div>"
      ],
      "text/plain": [
       "                   Song                                          Artist  \\\n",
       "0       Save Your Tears                      The Weeknd & Ariana Grande   \n",
       "1   Leave The Door Open        Silk Sonic (Bruno Mars & Anderson .Paak)   \n",
       "2               Peaches  Justin Bieber Featuring Daniel Caesar & Giveon   \n",
       "3               Rapstar                                          Polo G   \n",
       "4            Levitating                       Dua Lipa Featuring DaBaby   \n",
       "..                  ...                                             ...   \n",
       "95            4 Da Gang                           42 Dugg & Roddy Ricch   \n",
       "96      Blame It On You                                    Jason Aldean   \n",
       "97        Wasted On You                                   Morgan Wallen   \n",
       "98         Way Less Sad                                             AJR   \n",
       "99         Clear Da Air                                    Moneybagg Yo   \n",
       "\n",
       "        LW      PK     WOC  \n",
       "0     6 LW    1 Pk  20 WoC  \n",
       "1     2 LW    1 Pk   8 WoC  \n",
       "2     3 LW    1 Pk   6 WoC  \n",
       "3     1 LW    1 Pk   3 WoC  \n",
       "4     5 LW    5 Pk  30 WoC  \n",
       "..     ...     ...     ...  \n",
       "95  100 LW   67 Pk   4 WoC  \n",
       "96           97 Pk   1 WoC  \n",
       "97   92 LW    9 Pk  16 WoC  \n",
       "98           99 Pk   1 WoC  \n",
       "99          100 Pk   1 WoC  \n",
       "\n",
       "[100 rows x 5 columns]"
      ]
     },
     "execution_count": 48,
     "metadata": {},
     "output_type": "execute_result"
    }
   ],
   "source": [
    "df=pd.DataFrame({'Song':Song,\n",
    "                'Artist':Artist,\n",
    "                'LW':LW,\n",
    "                'PK':PK,\n",
    "                'WOC':WOC})\n",
    "df"
   ]
  },
  {
   "cell_type": "markdown",
   "metadata": {},
   "source": [
    "# 5.Scrape the details of trending repositories on Github.com"
   ]
  },
  {
   "cell_type": "code",
   "execution_count": 20,
   "metadata": {},
   "outputs": [],
   "source": [
    "driver.get(\"https://github.com/trending\")"
   ]
  },
  {
   "cell_type": "code",
   "execution_count": 24,
   "metadata": {},
   "outputs": [
    {
     "data": {
      "text/plain": [
       "['slidevjs / slidev', 'Renovamen / playground-macos']"
      ]
     },
     "execution_count": 24,
     "metadata": {},
     "output_type": "execute_result"
    }
   ],
   "source": [
    "Repository=[]\n",
    "for i in driver.find_elements_by_xpath(\"//h1[@class='h3 lh-condensed']\"):\n",
    "    Repository.append(i.text)\n",
    "\n",
    "Repository[:2]    \n",
    "    "
   ]
  },
  {
   "cell_type": "code",
   "execution_count": 28,
   "metadata": {},
   "outputs": [
    {
     "data": {
      "text/plain": [
       "['Presentation Slides for Developers (Public Beta 🎉)',\n",
       " \"My portfolio website simulating macOS's GUI, developed with React and tailwindcss.\"]"
      ]
     },
     "execution_count": 28,
     "metadata": {},
     "output_type": "execute_result"
    }
   ],
   "source": [
    "Desc=[]\n",
    "for d in driver.find_elements_by_xpath(\"//p[@class='col-9 color-text-secondary my-1 pr-4']\"):\n",
    "    Desc.append(d.text)\n",
    "Desc[:2]\n",
    "    "
   ]
  },
  {
   "cell_type": "code",
   "execution_count": 30,
   "metadata": {},
   "outputs": [
    {
     "data": {
      "text/plain": [
       "['TypeScript', 'JavaScript']"
      ]
     },
     "execution_count": 30,
     "metadata": {},
     "output_type": "execute_result"
    }
   ],
   "source": [
    "Language=[]\n",
    "for t in driver.find_elements_by_xpath(\"//span[@itemprop='programmingLanguage']\"):\n",
    "    Language.append(t.text)\n",
    "\n",
    "Language[:2]    "
   ]
  },
  {
   "cell_type": "code",
   "execution_count": 33,
   "metadata": {},
   "outputs": [
    {
     "data": {
      "text/plain": [
       "['5,404', '128']"
      ]
     },
     "execution_count": 33,
     "metadata": {},
     "output_type": "execute_result"
    }
   ],
   "source": [
    "Contributors=[]\n",
    "for c in driver.find_elements_by_xpath(\"//a[@class='Link--muted d-inline-block mr-3']\"):\n",
    "    Contributors.append(c.text)\n",
    "Contributors[:2]"
   ]
  },
  {
   "cell_type": "code",
   "execution_count": 40,
   "metadata": {},
   "outputs": [
    {
     "data": {
      "text/plain": [
       "(50, 20, 24, 25)"
      ]
     },
     "execution_count": 40,
     "metadata": {},
     "output_type": "execute_result"
    }
   ],
   "source": [
    "len(Contributors),len(Language),len(Desc),len(Repository)"
   ]
  },
  {
   "cell_type": "code",
   "execution_count": 41,
   "metadata": {},
   "outputs": [
    {
     "data": {
      "text/html": [
       "<div>\n",
       "<style scoped>\n",
       "    .dataframe tbody tr th:only-of-type {\n",
       "        vertical-align: middle;\n",
       "    }\n",
       "\n",
       "    .dataframe tbody tr th {\n",
       "        vertical-align: top;\n",
       "    }\n",
       "\n",
       "    .dataframe thead th {\n",
       "        text-align: right;\n",
       "    }\n",
       "</style>\n",
       "<table border=\"1\" class=\"dataframe\">\n",
       "  <thead>\n",
       "    <tr style=\"text-align: right;\">\n",
       "      <th></th>\n",
       "      <th>Repository</th>\n",
       "      <th>Desc</th>\n",
       "      <th>Language</th>\n",
       "      <th>Contributors</th>\n",
       "    </tr>\n",
       "  </thead>\n",
       "  <tbody>\n",
       "    <tr>\n",
       "      <th>0</th>\n",
       "      <td>slidevjs / slidev</td>\n",
       "      <td>Presentation Slides for Developers (Public Bet...</td>\n",
       "      <td>TypeScript</td>\n",
       "      <td>5,404</td>\n",
       "    </tr>\n",
       "    <tr>\n",
       "      <th>1</th>\n",
       "      <td>Renovamen / playground-macos</td>\n",
       "      <td>My portfolio website simulating macOS's GUI, d...</td>\n",
       "      <td>JavaScript</td>\n",
       "      <td>128</td>\n",
       "    </tr>\n",
       "    <tr>\n",
       "      <th>2</th>\n",
       "      <td>Chia-Network / chia-blockchain</td>\n",
       "      <td>Chia blockchain python implementation (full no...</td>\n",
       "      <td>Python</td>\n",
       "      <td>705</td>\n",
       "    </tr>\n",
       "    <tr>\n",
       "      <th>3</th>\n",
       "      <td>sundowndev / phoneinfoga</td>\n",
       "      <td>Information gathering &amp; OSINT framework for ph...</td>\n",
       "      <td>Go</td>\n",
       "      <td>52</td>\n",
       "    </tr>\n",
       "    <tr>\n",
       "      <th>4</th>\n",
       "      <td>dogecoin / dogecoin</td>\n",
       "      <td>very currency</td>\n",
       "      <td>C++</td>\n",
       "      <td>6,439</td>\n",
       "    </tr>\n",
       "    <tr>\n",
       "      <th>5</th>\n",
       "      <td>youngyangyang04 / leetcode-master</td>\n",
       "      <td>LeetCode 刷题攻略：200道题目刷题顺序，共60w字的详细图解，视频难点剖析，50余...</td>\n",
       "      <td>Dart</td>\n",
       "      <td>777</td>\n",
       "    </tr>\n",
       "    <tr>\n",
       "      <th>6</th>\n",
       "      <td>abuanwar072 / Flutter-Responsive-Admin-Panel-o...</td>\n",
       "      <td>Responsive Admin Panel or Dashboard using Flutter</td>\n",
       "      <td>JavaScript</td>\n",
       "      <td>4,470</td>\n",
       "    </tr>\n",
       "    <tr>\n",
       "      <th>7</th>\n",
       "      <td>30-seconds / 30-seconds-of-code</td>\n",
       "      <td>Short JavaScript code snippets for all your de...</td>\n",
       "      <td>C++</td>\n",
       "      <td>1,315</td>\n",
       "    </tr>\n",
       "    <tr>\n",
       "      <th>8</th>\n",
       "      <td>Light-City / CPlusPlusThings</td>\n",
       "      <td>C++那些事</td>\n",
       "      <td>JavaScript</td>\n",
       "      <td>8,821</td>\n",
       "    </tr>\n",
       "    <tr>\n",
       "      <th>9</th>\n",
       "      <td>microsoft / Web-Dev-For-Beginners</td>\n",
       "      <td>24 Lessons, 12 Weeks, Get Started as a Web Dev...</td>\n",
       "      <td>JavaScript</td>\n",
       "      <td>1,624</td>\n",
       "    </tr>\n",
       "    <tr>\n",
       "      <th>10</th>\n",
       "      <td>google / zx</td>\n",
       "      <td>A tool for writing better scripts</td>\n",
       "      <td>Rust</td>\n",
       "      <td>7,666</td>\n",
       "    </tr>\n",
       "    <tr>\n",
       "      <th>11</th>\n",
       "      <td>rustdesk / rustdesk</td>\n",
       "      <td>The best open source remote desktop client sof...</td>\n",
       "      <td>Python</td>\n",
       "      <td>1,804</td>\n",
       "    </tr>\n",
       "    <tr>\n",
       "      <th>12</th>\n",
       "      <td>trimstray / the-book-of-secret-knowledge</td>\n",
       "      <td>A collection of inspiring lists, manuals, chea...</td>\n",
       "      <td>C++</td>\n",
       "      <td>1,663</td>\n",
       "    </tr>\n",
       "    <tr>\n",
       "      <th>13</th>\n",
       "      <td>donnemartin / system-design-primer</td>\n",
       "      <td>Learn how to design large-scale systems. Prep ...</td>\n",
       "      <td>Python</td>\n",
       "      <td>243</td>\n",
       "    </tr>\n",
       "    <tr>\n",
       "      <th>14</th>\n",
       "      <td>ossrs / srs</td>\n",
       "      <td>SRS is a simple, high efficiency and realtime ...</td>\n",
       "      <td>C++</td>\n",
       "      <td>74,259</td>\n",
       "    </tr>\n",
       "    <tr>\n",
       "      <th>15</th>\n",
       "      <td>lucidrains / x-transformers</td>\n",
       "      <td>A simple but complete full-attention transform...</td>\n",
       "      <td>JavaScript</td>\n",
       "      <td>8,128</td>\n",
       "    </tr>\n",
       "    <tr>\n",
       "      <th>16</th>\n",
       "      <td>TheAlgorithms / C-Plus-Plus</td>\n",
       "      <td>Collection of various algorithms in mathematic...</td>\n",
       "      <td>Python</td>\n",
       "      <td>12,119</td>\n",
       "    </tr>\n",
       "    <tr>\n",
       "      <th>17</th>\n",
       "      <td>discordjs / discord.js</td>\n",
       "      <td>A powerful JavaScript library for interacting ...</td>\n",
       "      <td>Java</td>\n",
       "      <td>2,866</td>\n",
       "    </tr>\n",
       "    <tr>\n",
       "      <th>18</th>\n",
       "      <td>home-assistant / core</td>\n",
       "      <td>🏡 Open source home automation that puts local ...</td>\n",
       "      <td>Rust</td>\n",
       "      <td>21,536</td>\n",
       "    </tr>\n",
       "    <tr>\n",
       "      <th>19</th>\n",
       "      <td>dromara / shenyu</td>\n",
       "      <td>High-Performance Java API Gateway</td>\n",
       "      <td>Python</td>\n",
       "      <td>3,362</td>\n",
       "    </tr>\n",
       "  </tbody>\n",
       "</table>\n",
       "</div>"
      ],
      "text/plain": [
       "                                           Repository  \\\n",
       "0                                   slidevjs / slidev   \n",
       "1                        Renovamen / playground-macos   \n",
       "2                      Chia-Network / chia-blockchain   \n",
       "3                            sundowndev / phoneinfoga   \n",
       "4                                 dogecoin / dogecoin   \n",
       "5                   youngyangyang04 / leetcode-master   \n",
       "6   abuanwar072 / Flutter-Responsive-Admin-Panel-o...   \n",
       "7                     30-seconds / 30-seconds-of-code   \n",
       "8                        Light-City / CPlusPlusThings   \n",
       "9                   microsoft / Web-Dev-For-Beginners   \n",
       "10                                        google / zx   \n",
       "11                                rustdesk / rustdesk   \n",
       "12           trimstray / the-book-of-secret-knowledge   \n",
       "13                 donnemartin / system-design-primer   \n",
       "14                                        ossrs / srs   \n",
       "15                        lucidrains / x-transformers   \n",
       "16                        TheAlgorithms / C-Plus-Plus   \n",
       "17                             discordjs / discord.js   \n",
       "18                              home-assistant / core   \n",
       "19                                   dromara / shenyu   \n",
       "\n",
       "                                                 Desc    Language Contributors  \n",
       "0   Presentation Slides for Developers (Public Bet...  TypeScript        5,404  \n",
       "1   My portfolio website simulating macOS's GUI, d...  JavaScript          128  \n",
       "2   Chia blockchain python implementation (full no...      Python          705  \n",
       "3   Information gathering & OSINT framework for ph...          Go           52  \n",
       "4                                       very currency         C++        6,439  \n",
       "5   LeetCode 刷题攻略：200道题目刷题顺序，共60w字的详细图解，视频难点剖析，50余...        Dart          777  \n",
       "6   Responsive Admin Panel or Dashboard using Flutter  JavaScript        4,470  \n",
       "7   Short JavaScript code snippets for all your de...         C++        1,315  \n",
       "8                                              C++那些事  JavaScript        8,821  \n",
       "9   24 Lessons, 12 Weeks, Get Started as a Web Dev...  JavaScript        1,624  \n",
       "10                  A tool for writing better scripts        Rust        7,666  \n",
       "11  The best open source remote desktop client sof...      Python        1,804  \n",
       "12  A collection of inspiring lists, manuals, chea...         C++        1,663  \n",
       "13  Learn how to design large-scale systems. Prep ...      Python          243  \n",
       "14  SRS is a simple, high efficiency and realtime ...         C++       74,259  \n",
       "15  A simple but complete full-attention transform...  JavaScript        8,128  \n",
       "16  Collection of various algorithms in mathematic...      Python       12,119  \n",
       "17  A powerful JavaScript library for interacting ...        Java        2,866  \n",
       "18  🏡 Open source home automation that puts local ...        Rust       21,536  \n",
       "19                  High-Performance Java API Gateway      Python        3,362  "
      ]
     },
     "execution_count": 41,
     "metadata": {},
     "output_type": "execute_result"
    }
   ],
   "source": [
    "cg=pd.DataFrame({'Repository':Repository[:20],\n",
    "                'Desc':Desc[:20],\n",
    "                'Language':Language[:20],\n",
    "                 'Contributors':Contributors[:20]\n",
    "                })\n",
    "cg"
   ]
  }
 ],
 "metadata": {
  "kernelspec": {
   "display_name": "Python 3",
   "language": "python",
   "name": "python3"
  },
  "language_info": {
   "codemirror_mode": {
    "name": "ipython",
    "version": 3
   },
   "file_extension": ".py",
   "mimetype": "text/x-python",
   "name": "python",
   "nbconvert_exporter": "python",
   "pygments_lexer": "ipython3",
   "version": "3.8.5"
  }
 },
 "nbformat": 4,
 "nbformat_minor": 4
}
